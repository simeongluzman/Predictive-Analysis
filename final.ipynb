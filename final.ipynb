{
 "cells": [
  {
   "cell_type": "code",
   "execution_count": 2,
   "metadata": {},
   "outputs": [],
   "source": [
    "import pandas as pd\n",
    "import numpy as np\n",
    "from sklearn.preprocessing import OneHotEncoder, MinMaxScaler\n",
    "from sklearn.model_selection import train_test_split\n",
    "from tensorflow.keras.models import Sequential\n",
    "from tensorflow.keras.layers import LSTM, Dense, Dropout\n",
    "from tensorflow.keras.utils import to_categorical\n",
    "from tensorflow.keras.optimizers import Adam\n",
    "\n"
   ]
  },
  {
   "cell_type": "code",
   "execution_count": 3,
   "metadata": {},
   "outputs": [],
   "source": [
    "# Read the CSV file into a pandas dataframe\n",
    "df = pd.read_csv('internship_assignment.csv')\n",
    "\n",
    "# Convert the 'dt' column to a datetime format\n",
    "df['dt'] = pd.to_datetime(df['dt'])\n",
    "\n",
    "# Extract features from 'dt' column\n",
    "df['day_of_week'] = df['dt'].dt.dayofweek\n",
    "df['hour_of_day'] = df['dt'].dt.hour\n",
    "\n",
    "\n",
    "# Drop unnecessary columns\n",
    "df = df.drop(columns=['dt', 'selected_track_id', 'selected_project_id', 'step_id'])\n",
    "\n",
    "# Sort the data by 'user_id_hashed' columns in ascending order\n",
    "df = df.sort_values(['user_id_hashed'], ascending=True)\n",
    "\n",
    "\n"
   ]
  },
  {
   "cell_type": "code",
   "execution_count": 4,
   "metadata": {},
   "outputs": [],
   "source": [
    "# Define a list of the categorical column names\n",
    "categorical_columns = ['user_id_hashed', 'learning_goal', 'selected_project', 'topic', 'project', 'project_difficulty', 'step', 'step_difficulty']\n",
    "\n",
    "# Define an instance of the OneHotEncoder class for encoding categorical variables\n",
    "encoder = OneHotEncoder(handle_unknown='ignore')\n",
    "\n",
    "# Fit and transform the categorical columns in one step\n",
    "encoded_categorical_data = encoder.fit_transform(df[categorical_columns])\n",
    "\n",
    "# Combine the non-categorical columns and 'user_id_hashed' with the encoded categorical data\n",
    "non_categorical_columns = ['day_of_week', 'hour_of_day']\n",
    "encoded_data = pd.concat([df[non_categorical_columns], df['user_id_hashed'], pd.DataFrame(encoded_categorical_data.toarray())], axis=1)\n",
    "\n",
    "\n",
    "\n",
    "\n",
    "# One-hot encode the target variable 'action'\n",
    "target_encoder = OneHotEncoder(handle_unknown='ignore')\n",
    "encoded_target = target_encoder.fit_transform(df[['action']])\n",
    "\n",
    "# Normalize the non-categorical columns using MinMaxScaler\n",
    "scaler = MinMaxScaler()\n",
    "encoded_data[['day_of_week', 'hour_of_day']] = scaler.fit_transform(encoded_data[['day_of_week', 'hour_of_day']])\n",
    "\n",
    "# Split the data into training and testing sets (80% train, 20% test)\n",
    "X_train, X_test, y_train, y_test = train_test_split(encoded_data, encoded_target, test_size=0.2, random_state=42)\n",
    "\n",
    "# Convert the sparse matrix to a dense NumPy array and get the index of the non-zero element\n",
    "y_train = y_train.toarray().argmax(axis=1)\n",
    "y_test = y_test.toarray().argmax(axis=1)\n",
    "\n",
    "# Convert the target variables to one-hot encoded format\n",
    "y_train = to_categorical(y_train)\n",
    "y_test = to_categorical(y_test)\n",
    "\n",
    "n_features = X_train.shape[1]\n",
    "n_actions = y_train.shape[1]\n",
    "\n"
   ]
  },
  {
   "cell_type": "code",
   "execution_count": 6,
   "metadata": {},
   "outputs": [
    {
     "ename": "NameError",
     "evalue": "name 'keras' is not defined",
     "output_type": "error",
     "traceback": [
      "\u001b[0;31m---------------------------------------------------------------------------\u001b[0m",
      "\u001b[0;31mNameError\u001b[0m                                 Traceback (most recent call last)",
      "Cell \u001b[0;32mIn[6], line 11\u001b[0m\n\u001b[1;32m      8\u001b[0m model\u001b[39m.\u001b[39madd(Dense(n_actions, activation\u001b[39m=\u001b[39m\u001b[39m'\u001b[39m\u001b[39msoftmax\u001b[39m\u001b[39m'\u001b[39m))\n\u001b[1;32m     10\u001b[0m \u001b[39m# Compile the model\u001b[39;00m\n\u001b[0;32m---> 11\u001b[0m opt \u001b[39m=\u001b[39m keras\u001b[39m.\u001b[39moptimizers\u001b[39m.\u001b[39mAdam(learning_rate\u001b[39m=\u001b[39m\u001b[39m0.0001\u001b[39m)\n\u001b[1;32m     12\u001b[0m model\u001b[39m.\u001b[39mcompile(optimizer\u001b[39m=\u001b[39mopt, loss\u001b[39m=\u001b[39m\u001b[39m'\u001b[39m\u001b[39mcategorical_crossentropy\u001b[39m\u001b[39m'\u001b[39m, metrics\u001b[39m=\u001b[39m[\u001b[39m'\u001b[39m\u001b[39maccuracy\u001b[39m\u001b[39m'\u001b[39m])\n\u001b[1;32m     14\u001b[0m \u001b[39m# Reshape the input data to be 3D, as required by the LSTM model (samples, timesteps, features)\u001b[39;00m\n",
      "\u001b[0;31mNameError\u001b[0m: name 'keras' is not defined"
     ]
    }
   ],
   "source": [
    "from tensorflow.keras import regularizers\n",
    "\n",
    "# Define the model architecture\n",
    "model = Sequential()\n",
    "model.add(LSTM(256, activation='relu', input_shape=(1, n_features), return_sequences=True, kernel_regularizer=regularizers.l2(0.001)))\n",
    "model.add(LSTM(128, activation='relu', return_sequences=True, kernel_regularizer=regularizers.l2(0.001)))\n",
    "model.add(LSTM(64, activation='relu', kernel_regularizer=regularizers.l2(0.001)))\n",
    "model.add(Dense(n_actions, activation='softmax'))\n",
    "\n",
    "# Compile the model\n",
    "opt = tensorflow.keras.optimizers.Adam(learning_rate=0.0001)\n",
    "model.compile(optimizer=opt, loss='categorical_crossentropy', metrics=['accuracy'])\n",
    "\n",
    "# Reshape the input data to be 3D, as required by the LSTM model (samples, timesteps, features)\n",
    "X_train_reshaped = X_train.values.reshape((X_train.shape[0], 1, X_train.shape[1]))\n",
    "X_test_reshaped = X_test.values.reshape((X_test.shape[0], 1, X_test.shape[1]))\n",
    "\n",
    "# Train the model\n",
    "history = model.fit(X_train_reshaped, y_train, batch_size=128, epochs=50, validation_data=(X_test_reshaped, y_test), verbose=1)\n"
   ]
  },
  {
   "cell_type": "code",
   "execution_count": null,
   "metadata": {},
   "outputs": [],
   "source": [
    "# Evaluate the model on the test data\n",
    "loss, accuracy = model.evaluate(X_test_reshaped, y_test)\n",
    "print(f\"Test accuracy: {accuracy * 100:.2f}%\")\n",
    "\n",
    "def predict_next_actions(model, user_data, n_actions):\n",
    "    padding_length = model.input_shape[2] - user_data.shape[1]\n",
    "    user_data_padded = np.pad(user_data.values, ((0, 0), (padding_length, 0)), 'constant')\n",
    "    user_data_reshaped = user_data_padded.reshape((1, 1, user_data_padded.shape[1]))\n",
    "    predictions = []\n",
    "\n",
    "    for _ in range(n_actions):\n",
    "        prediction = model.predict(user_data_reshaped)\n",
    "        predictions.append(prediction)\n",
    "        prediction = prediction.reshape(1, 1, -1)  # Add an extra dimension to the prediction array\n",
    "        user_data_reshaped = np.concatenate((user_data_reshaped[:, :, :-prediction.shape[2]], prediction), axis=2)\n",
    "\n",
    "    return np.array(predictions)\n",
    "\n"
   ]
  }
 ],
 "metadata": {
  "kernelspec": {
   "display_name": "Python 3",
   "language": "python",
   "name": "python3"
  },
  "language_info": {
   "codemirror_mode": {
    "name": "ipython",
    "version": 3
   },
   "file_extension": ".py",
   "mimetype": "text/x-python",
   "name": "python",
   "nbconvert_exporter": "python",
   "pygments_lexer": "ipython3",
   "version": "3.9.6"
  },
  "orig_nbformat": 4
 },
 "nbformat": 4,
 "nbformat_minor": 2
}
