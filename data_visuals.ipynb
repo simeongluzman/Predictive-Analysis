{
 "cells": [
  {
   "cell_type": "code",
   "execution_count": null,
   "metadata": {},
   "outputs": [],
   "source": [
    "import matplotlib.pyplot as plt\n",
    "action_counts = df['action'].value_counts()\n",
    "\n",
    "# Create a pie chart\n",
    "plt.pie(action_counts.values, labels=action_counts.index, autopct='%1.1f%%')\n",
    "plt.title('User Actions')\n",
    "plt.axis('equal')\n",
    "plt.show()"
   ]
  }
 ],
 "metadata": {
  "language_info": {
   "name": "python"
  },
  "orig_nbformat": 4
 },
 "nbformat": 4,
 "nbformat_minor": 2
}
