{
 "cells": [
  {
   "cell_type": "code",
   "execution_count": 1,
   "metadata": {},
   "outputs": [],
   "source": [
    "import pandas as pd\n",
    "import numpy as np\n",
    "from sklearn.preprocessing import OneHotEncoder\n",
    "\n",
    "# Read the CSV file into a pandas dataframe\n",
    "df = pd.read_csv('internship_assignment.csv')\n",
    "\n",
    "# Convert the 'dt' column to a datetime format\n",
    "df['dt'] = pd.to_datetime(df['dt'])\n",
    "\n",
    "# Extract features from 'dt' column\n",
    "df['day_of_week'] = df['dt'].dt.dayofweek\n",
    "df['hour_of_day'] = df['dt'].dt.hour\n",
    "\n",
    "# Sort the data by 'user_id_hashed' and 'dt' columns in ascending order\n",
    "df = df.sort_values(['user_id_hashed', 'dt'], ascending=[True, True])\n",
    "\n",
    "# Define a list of the categorical column names\n",
    "categorical_columns = ['learning_goal', 'selected_project', 'topic', 'project', 'project_difficulty', 'step', 'step_difficulty']\n",
    "\n",
    "# Define an instance of the OneHotEncoder class for encoding categorical variables\n",
    "encoder = OneHotEncoder(handle_unknown='ignore')\n",
    "\n",
    "# Fit and transform the categorical columns in one step\n",
    "encoded_categorical_data = encoder.fit_transform(df[categorical_columns])\n",
    "\n",
    "# Combine the non-categorical columns with the encoded categorical data\n",
    "non_categorical_columns = ['user_id_hashed', 'day_of_week', 'hour_of_day']\n",
    "encoded_data = pd.concat([df[non_categorical_columns], pd.DataFrame(encoded_categorical_data.toarray())], axis=1)\n",
    "\n",
    "# One-hot encode the target variable 'action'\n",
    "target_encoder = OneHotEncoder(handle_unknown='ignore')\n",
    "encoded_target = target_encoder.fit_transform(df[['action']])\n"
   ]
  },
  {
   "cell_type": "code",
   "execution_count": 6,
   "metadata": {},
   "outputs": [],
   "source": [
    "from sklearn.model_selection import train_test_split\n",
    "from sklearn.preprocessing import MinMaxScaler\n",
    "from tensorflow.keras.models import Sequential\n",
    "from tensorflow.keras.layers import LSTM, Dense\n",
    "from tensorflow.keras.utils import to_categorical\n",
    "\n",
    "\n",
    "# Normalize the non-categorical columns using MinMaxScaler\n",
    "scaler = MinMaxScaler()\n",
    "encoded_data[['day_of_week', 'hour_of_day']] = scaler.fit_transform(encoded_data[['day_of_week', 'hour_of_day']])\n",
    "\n",
    "# Split the data into training and testing sets (80% train, 20% test)\n",
    "\n",
    "\n",
    "# Split the data into training and testing sets (80% train, 20% test)\n",
    "X_train, X_test, y_train, y_test = train_test_split(encoded_data, encoded_target, test_size=0.2, random_state=42)\n",
    "\n",
    "# Convert the sparse matrix to a dense NumPy array and get the index of the non-zero element\n",
    "y_train = y_train.toarray().argmax(axis=1)\n",
    "y_test = y_test.toarray().argmax(axis=1)\n",
    "\n",
    "# Convert the target variables to one-hot encoded format\n",
    "y_train = to_categorical(y_train)\n",
    "y_test = to_categorical(y_test)\n",
    "\n"
   ]
  },
  {
   "cell_type": "code",
   "execution_count": 7,
   "metadata": {},
   "outputs": [],
   "source": [
    "n_features = X_train.shape[1]\n",
    "n_actions = y_train.shape[1]\n",
    "\n",
    "model = Sequential()\n",
    "model.add(LSTM(128, activation='relu', input_shape=(1, n_features), return_sequences=True))\n",
    "model.add(LSTM(64, activation='relu'))\n",
    "model.add(Dense(n_actions, activation='softmax'))\n",
    "\n",
    "model.compile(optimizer='adam', loss='categorical_crossentropy', metrics=['accuracy'])\n"
   ]
  },
  {
   "cell_type": "code",
   "execution_count": 8,
   "metadata": {},
   "outputs": [
    {
     "name": "stdout",
     "output_type": "stream",
     "text": [
      "Epoch 1/10\n",
      "762/762 [==============================] - 19s 22ms/step - loss: 394120963031040.0000 - accuracy: 0.1895 - val_loss: 2.8350 - val_accuracy: 0.1977\n",
      "Epoch 2/10\n",
      "762/762 [==============================] - 15s 20ms/step - loss: 2.6219 - accuracy: 0.2123 - val_loss: 2.4574 - val_accuracy: 0.2643\n",
      "Epoch 3/10\n",
      "762/762 [==============================] - 15s 19ms/step - loss: 2.3567 - accuracy: 0.2573 - val_loss: 2.2894 - val_accuracy: 0.2643\n",
      "Epoch 4/10\n",
      "762/762 [==============================] - 15s 20ms/step - loss: 2.2454 - accuracy: 0.2573 - val_loss: 2.2220 - val_accuracy: 0.2643\n",
      "Epoch 5/10\n",
      "762/762 [==============================] - 15s 20ms/step - loss: 2.2003 - accuracy: 0.2573 - val_loss: 2.1941 - val_accuracy: 0.2643\n",
      "Epoch 6/10\n",
      "762/762 [==============================] - 16s 21ms/step - loss: 2.1801 - accuracy: 0.2573 - val_loss: 2.1805 - val_accuracy: 0.2643\n",
      "Epoch 7/10\n",
      "762/762 [==============================] - 17s 22ms/step - loss: 2.1696 - accuracy: 0.2573 - val_loss: 2.1730 - val_accuracy: 0.2643\n",
      "Epoch 8/10\n",
      "762/762 [==============================] - 16s 21ms/step - loss: 2.1637 - accuracy: 0.2573 - val_loss: 2.1688 - val_accuracy: 0.2643\n",
      "Epoch 9/10\n",
      "762/762 [==============================] - 16s 21ms/step - loss: 2.1600 - accuracy: 0.2573 - val_loss: 2.1665 - val_accuracy: 0.2643\n",
      "Epoch 10/10\n",
      "762/762 [==============================] - 16s 22ms/step - loss: 2.1578 - accuracy: 0.2573 - val_loss: 2.1648 - val_accuracy: 0.2643\n"
     ]
    }
   ],
   "source": [
    "# Reshape the input data to be 3D, as required by the LSTM model (samples, timesteps, features)\n",
    "X_train_reshaped = X_train.values.reshape((X_train.shape[0], 1, X_train.shape[1]))\n",
    "X_test_reshaped = X_test.values.reshape((X_test.shape[0], 1, X_test.shape[1]))\n",
    "\n",
    "# Train the model\n",
    "history = model.fit(X_train_reshaped, y_train, epochs=10, validation_data=(X_test_reshaped, y_test), verbose=1)\n"
   ]
  },
  {
   "cell_type": "code",
   "execution_count": 9,
   "metadata": {},
   "outputs": [
    {
     "name": "stdout",
     "output_type": "stream",
     "text": [
      "191/191 [==============================] - 1s 3ms/step - loss: 2.1648 - accuracy: 0.2643\n",
      "Test accuracy: 26.43%\n"
     ]
    }
   ],
   "source": [
    "# Evaluate the model on the test data\n",
    "loss, accuracy = model.evaluate(X_test_reshaped, y_test)\n",
    "print(f\"Test accuracy: {accuracy * 100:.2f}%\")\n"
   ]
  },
  {
   "cell_type": "code",
   "execution_count": 61,
   "metadata": {},
   "outputs": [],
   "source": [
    "def predict_next_actions(model, user_data, n_actions):\n",
    "    # Pad the input data with an additional feature of zeros\n",
    "    user_data_padded = np.pad(user_data.values, ((0, 0), (1, 0)), 'constant')\n",
    "    user_data_reshaped = user_data_padded.reshape((1, 1, user_data_padded.shape[1]))\n",
    "    predictions = []\n",
    "\n",
    "    for _ in range(n_actions):\n",
    "        prediction = model.predict(user_data_reshaped)\n",
    "        predictions.append(prediction)\n",
    "        user_data_reshaped = np.concatenate((user_data_reshaped[:, -1:, :], prediction), axis=1).reshape((1, user_data_reshaped.shape[1], user_data_reshaped.shape[2]))\n",
    "\n",
    "    return np.array(predictions)\n",
    "\n"
   ]
  },
  {
   "cell_type": "code",
   "execution_count": 69,
   "metadata": {},
   "outputs": [],
   "source": [
    "def predict_next_actions(model, user_data, n_actions):\n",
    "    padding_length = model.input_shape[2] - user_data.shape[1]\n",
    "    user_data_padded = np.pad(user_data.values, ((0, 0), (padding_length, 0)), 'constant')\n",
    "    user_data_reshaped = user_data_padded.reshape((1, 1, user_data_padded.shape[1]))\n",
    "    predictions = []\n",
    "\n",
    "    for _ in range(n_actions):\n",
    "        prediction = model.predict(user_data_reshaped)\n",
    "        predictions.append(prediction)\n",
    "        prediction = prediction.reshape(1, 1, -1)  # Add an extra dimension to the prediction array\n",
    "        user_data_reshaped = np.concatenate((user_data_reshaped[:, :, :-prediction.shape[2]], prediction), axis=2)\n",
    "\n",
    "    return np.array(predictions)\n",
    "\n",
    "\n"
   ]
  },
  {
   "cell_type": "code",
   "execution_count": 87,
   "metadata": {},
   "outputs": [
    {
     "name": "stdout",
     "output_type": "stream",
     "text": [
      "1/1 [==============================] - 0s 49ms/step\n",
      "1/1 [==============================] - 0s 36ms/step\n",
      "1/1 [==============================] - 0s 30ms/step\n",
      "1/1 [==============================] - 0s 32ms/step\n",
      "1/1 [==============================] - 0s 28ms/step\n",
      "1/1 [==============================] - 0s 27ms/step\n",
      "1/1 [==============================] - 0s 30ms/step\n",
      "1/1 [==============================] - 0s 28ms/step\n",
      "1/1 [==============================] - 0s 28ms/step\n",
      "1/1 [==============================] - 0s 28ms/step\n",
      "1/1 [==============================] - 0s 29ms/step\n",
      "1/1 [==============================] - 0s 28ms/step\n",
      "1/1 [==============================] - 0s 30ms/step\n",
      "1/1 [==============================] - 0s 36ms/step\n",
      "1/1 [==============================] - 0s 38ms/step\n",
      "1/1 [==============================] - 0s 49ms/step\n",
      "1/1 [==============================] - 0s 36ms/step\n",
      "1/1 [==============================] - 0s 33ms/step\n",
      "1/1 [==============================] - 0s 37ms/step\n",
      "1/1 [==============================] - 0s 29ms/step\n",
      "1/1 [==============================] - 0s 28ms/step\n",
      "1/1 [==============================] - 0s 35ms/step\n",
      "1/1 [==============================] - 0s 29ms/step\n",
      "1/1 [==============================] - 0s 29ms/step\n",
      "1/1 [==============================] - 0s 28ms/step\n",
      "1/1 [==============================] - 0s 28ms/step\n",
      "1/1 [==============================] - 0s 28ms/step\n",
      "1/1 [==============================] - 0s 27ms/step\n",
      "1/1 [==============================] - 0s 28ms/step\n",
      "1/1 [==============================] - 0s 29ms/step\n",
      "1/1 [==============================] - 0s 31ms/step\n",
      "1/1 [==============================] - 0s 30ms/step\n",
      "1/1 [==============================] - 0s 33ms/step\n",
      "1/1 [==============================] - 0s 32ms/step\n",
      "1/1 [==============================] - 0s 29ms/step\n",
      "1/1 [==============================] - 0s 28ms/step\n",
      "1/1 [==============================] - 0s 29ms/step\n",
      "1/1 [==============================] - 0s 32ms/step\n",
      "1/1 [==============================] - 0s 28ms/step\n",
      "1/1 [==============================] - 0s 29ms/step\n",
      "1/1 [==============================] - 0s 27ms/step\n",
      "1/1 [==============================] - 0s 27ms/step\n",
      "1/1 [==============================] - 0s 30ms/step\n",
      "1/1 [==============================] - 0s 32ms/step\n",
      "1/1 [==============================] - 0s 28ms/step\n",
      "1/1 [==============================] - 0s 28ms/step\n",
      "1/1 [==============================] - 0s 28ms/step\n",
      "1/1 [==============================] - 0s 28ms/step\n",
      "1/1 [==============================] - 0s 30ms/step\n",
      "1/1 [==============================] - 0s 29ms/step\n",
      "Next 5 actions for user 8954549735489947820: [['failed_submission']\n",
      " ['failed_submission']\n",
      " ['failed_submission']\n",
      " ['failed_submission']\n",
      " ['failed_submission']\n",
      " ['failed_submission']\n",
      " ['failed_submission']\n",
      " ['failed_submission']\n",
      " ['failed_submission']\n",
      " ['failed_submission']\n",
      " ['failed_submission']\n",
      " ['failed_submission']\n",
      " ['failed_submission']\n",
      " ['failed_submission']\n",
      " ['failed_submission']\n",
      " ['failed_submission']\n",
      " ['failed_submission']\n",
      " ['failed_submission']\n",
      " ['failed_submission']\n",
      " ['failed_submission']\n",
      " ['failed_submission']\n",
      " ['failed_submission']\n",
      " ['failed_submission']\n",
      " ['failed_submission']\n",
      " ['failed_submission']\n",
      " ['failed_submission']\n",
      " ['failed_submission']\n",
      " ['failed_submission']\n",
      " ['failed_submission']\n",
      " ['failed_submission']\n",
      " ['failed_submission']\n",
      " ['failed_submission']\n",
      " ['failed_submission']\n",
      " ['failed_submission']\n",
      " ['failed_submission']\n",
      " ['failed_submission']\n",
      " ['failed_submission']\n",
      " ['failed_submission']\n",
      " ['failed_submission']\n",
      " ['failed_submission']\n",
      " ['failed_submission']\n",
      " ['failed_submission']\n",
      " ['failed_submission']\n",
      " ['failed_submission']\n",
      " ['failed_submission']\n",
      " ['failed_submission']\n",
      " ['failed_submission']\n",
      " ['failed_submission']\n",
      " ['failed_submission']\n",
      " ['failed_submission']]\n"
     ]
    }
   ],
   "source": [
    "user_id = 8954549735489947820\n",
    "user_data = encoded_data[encoded_data['user_id_hashed'] == user_id].iloc[-1:].drop(columns=['user_id_hashed'])\n",
    "\n",
    "# Predict the next 5 actions for the given user\n",
    "predicted_actions_encoded = predict_next_actions(model, user_data, 50)\n",
    "\n",
    "# Decode the predicted actions\n",
    "predicted_actions = target_encoder.inverse_transform(predicted_actions_encoded.reshape(predicted_actions_encoded.shape[0], -1))\n",
    "print(f\"Next 5 actions for user {user_id}: {predicted_actions}\")\n"
   ]
  },
  {
   "cell_type": "code",
   "execution_count": 88,
   "metadata": {},
   "outputs": [
    {
     "name": "stdout",
     "output_type": "stream",
     "text": [
      "Number of unique entries in 'column_name': 14\n"
     ]
    }
   ],
   "source": [
    "encoded_data.tail()\n",
    "\n",
    "\n",
    "num_unique = encoded_data['user_id_hashed'].nunique()\n",
    "print(f\"Number of unique entries in 'column_name': {num_unique}\")\n"
   ]
  }
 ],
 "metadata": {
  "kernelspec": {
   "display_name": "Python 3",
   "language": "python",
   "name": "python3"
  },
  "language_info": {
   "codemirror_mode": {
    "name": "ipython",
    "version": 3
   },
   "file_extension": ".py",
   "mimetype": "text/x-python",
   "name": "python",
   "nbconvert_exporter": "python",
   "pygments_lexer": "ipython3",
   "version": "3.9.6"
  },
  "orig_nbformat": 4
 },
 "nbformat": 4,
 "nbformat_minor": 2
}
