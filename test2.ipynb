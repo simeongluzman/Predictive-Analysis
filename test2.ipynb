{
 "cells": [
  {
   "cell_type": "code",
   "execution_count": 28,
   "metadata": {},
   "outputs": [
    {
     "ename": "ValueError",
     "evalue": "Invalid fill method. Expecting pad (ffill), backfill (bfill) or nearest. Got nan",
     "output_type": "error",
     "traceback": [
      "\u001b[0;31m---------------------------------------------------------------------------\u001b[0m",
      "\u001b[0;31mValueError\u001b[0m                                Traceback (most recent call last)",
      "Cell \u001b[0;32mIn[28], line 24\u001b[0m\n\u001b[1;32m     21\u001b[0m U1\u001b[39m.\u001b[39mset_index(\u001b[39m'\u001b[39m\u001b[39mdt\u001b[39m\u001b[39m'\u001b[39m, inplace\u001b[39m=\u001b[39m\u001b[39mTrue\u001b[39;00m)\n\u001b[1;32m     23\u001b[0m \u001b[39m# Resample the data to hourly frequency and fill missing values with 0\u001b[39;00m\n\u001b[0;32m---> 24\u001b[0m U1 \u001b[39m=\u001b[39m U1\u001b[39m.\u001b[39;49mresample(\u001b[39m'\u001b[39;49m\u001b[39mmin\u001b[39;49m\u001b[39m'\u001b[39;49m)\u001b[39m.\u001b[39;49mfillna(np\u001b[39m.\u001b[39;49mnan)\n\u001b[1;32m     26\u001b[0m \u001b[39m# Fill missing values for each column separately\u001b[39;00m\n\u001b[1;32m     27\u001b[0m U1[\u001b[39m'\u001b[39m\u001b[39mlearning_goal\u001b[39m\u001b[39m'\u001b[39m]\u001b[39m.\u001b[39mfillna(method\u001b[39m=\u001b[39m\u001b[39m'\u001b[39m\u001b[39mffill\u001b[39m\u001b[39m'\u001b[39m, inplace\u001b[39m=\u001b[39m\u001b[39mTrue\u001b[39;00m)\n",
      "File \u001b[0;32m~/Library/Python/3.9/lib/python/site-packages/pandas/core/resample.py:916\u001b[0m, in \u001b[0;36mResampler.fillna\u001b[0;34m(self, method, limit)\u001b[0m\n\u001b[1;32m    758\u001b[0m \u001b[39mdef\u001b[39;00m \u001b[39mfillna\u001b[39m(\u001b[39mself\u001b[39m, method, limit\u001b[39m=\u001b[39m\u001b[39mNone\u001b[39;00m):\n\u001b[1;32m    759\u001b[0m \u001b[39m    \u001b[39m\u001b[39m\"\"\"\u001b[39;00m\n\u001b[1;32m    760\u001b[0m \u001b[39m    Fill missing values introduced by upsampling.\u001b[39;00m\n\u001b[1;32m    761\u001b[0m \n\u001b[0;32m   (...)\u001b[0m\n\u001b[1;32m    914\u001b[0m \u001b[39m    2018-01-01 02:00:00  6.0  5\u001b[39;00m\n\u001b[1;32m    915\u001b[0m \u001b[39m    \"\"\"\u001b[39;00m\n\u001b[0;32m--> 916\u001b[0m     \u001b[39mreturn\u001b[39;00m \u001b[39mself\u001b[39;49m\u001b[39m.\u001b[39;49m_upsample(method, limit\u001b[39m=\u001b[39;49mlimit)\n",
      "File \u001b[0;32m~/Library/Python/3.9/lib/python/site-packages/pandas/core/resample.py:1365\u001b[0m, in \u001b[0;36mDatetimeIndexResampler._upsample\u001b[0;34m(self, method, limit, fill_value)\u001b[0m\n\u001b[1;32m   1363\u001b[0m     result\u001b[39m.\u001b[39mindex \u001b[39m=\u001b[39m res_index\n\u001b[1;32m   1364\u001b[0m \u001b[39melse\u001b[39;00m:\n\u001b[0;32m-> 1365\u001b[0m     result \u001b[39m=\u001b[39m obj\u001b[39m.\u001b[39;49mreindex(\n\u001b[1;32m   1366\u001b[0m         res_index, method\u001b[39m=\u001b[39;49mmethod, limit\u001b[39m=\u001b[39;49mlimit, fill_value\u001b[39m=\u001b[39;49mfill_value\n\u001b[1;32m   1367\u001b[0m     )\n\u001b[1;32m   1369\u001b[0m result \u001b[39m=\u001b[39m \u001b[39mself\u001b[39m\u001b[39m.\u001b[39m_apply_loffset(result)\n\u001b[1;32m   1370\u001b[0m \u001b[39mreturn\u001b[39;00m \u001b[39mself\u001b[39m\u001b[39m.\u001b[39m_wrap_result(result)\n",
      "File \u001b[0;32m~/Library/Python/3.9/lib/python/site-packages/pandas/util/_decorators.py:347\u001b[0m, in \u001b[0;36mrewrite_axis_style_signature.<locals>.decorate.<locals>.wrapper\u001b[0;34m(*args, **kwargs)\u001b[0m\n\u001b[1;32m    345\u001b[0m \u001b[39m@wraps\u001b[39m(func)\n\u001b[1;32m    346\u001b[0m \u001b[39mdef\u001b[39;00m \u001b[39mwrapper\u001b[39m(\u001b[39m*\u001b[39margs, \u001b[39m*\u001b[39m\u001b[39m*\u001b[39mkwargs) \u001b[39m-\u001b[39m\u001b[39m>\u001b[39m Callable[\u001b[39m.\u001b[39m\u001b[39m.\u001b[39m\u001b[39m.\u001b[39m, Any]:\n\u001b[0;32m--> 347\u001b[0m     \u001b[39mreturn\u001b[39;00m func(\u001b[39m*\u001b[39;49margs, \u001b[39m*\u001b[39;49m\u001b[39m*\u001b[39;49mkwargs)\n",
      "File \u001b[0;32m~/Library/Python/3.9/lib/python/site-packages/pandas/core/frame.py:5205\u001b[0m, in \u001b[0;36mDataFrame.reindex\u001b[0;34m(self, *args, **kwargs)\u001b[0m\n\u001b[1;32m   5203\u001b[0m kwargs\u001b[39m.\u001b[39mpop(\u001b[39m\"\u001b[39m\u001b[39maxis\u001b[39m\u001b[39m\"\u001b[39m, \u001b[39mNone\u001b[39;00m)\n\u001b[1;32m   5204\u001b[0m kwargs\u001b[39m.\u001b[39mpop(\u001b[39m\"\u001b[39m\u001b[39mlabels\u001b[39m\u001b[39m\"\u001b[39m, \u001b[39mNone\u001b[39;00m)\n\u001b[0;32m-> 5205\u001b[0m \u001b[39mreturn\u001b[39;00m \u001b[39msuper\u001b[39;49m()\u001b[39m.\u001b[39;49mreindex(\u001b[39m*\u001b[39;49m\u001b[39m*\u001b[39;49mkwargs)\n",
      "File \u001b[0;32m~/Library/Python/3.9/lib/python/site-packages/pandas/core/generic.py:5255\u001b[0m, in \u001b[0;36mNDFrame.reindex\u001b[0;34m(self, *args, **kwargs)\u001b[0m\n\u001b[1;32m   5250\u001b[0m \u001b[39m# TODO: Decide if we care about having different examples for different\u001b[39;00m\n\u001b[1;32m   5251\u001b[0m \u001b[39m# kinds\u001b[39;00m\n\u001b[1;32m   5252\u001b[0m \n\u001b[1;32m   5253\u001b[0m \u001b[39m# construct the args\u001b[39;00m\n\u001b[1;32m   5254\u001b[0m axes, kwargs \u001b[39m=\u001b[39m \u001b[39mself\u001b[39m\u001b[39m.\u001b[39m_construct_axes_from_arguments(args, kwargs)\n\u001b[0;32m-> 5255\u001b[0m method \u001b[39m=\u001b[39m missing\u001b[39m.\u001b[39;49mclean_reindex_fill_method(kwargs\u001b[39m.\u001b[39;49mpop(\u001b[39m\"\u001b[39;49m\u001b[39mmethod\u001b[39;49m\u001b[39m\"\u001b[39;49m, \u001b[39mNone\u001b[39;49;00m))\n\u001b[1;32m   5256\u001b[0m level \u001b[39m=\u001b[39m kwargs\u001b[39m.\u001b[39mpop(\u001b[39m\"\u001b[39m\u001b[39mlevel\u001b[39m\u001b[39m\"\u001b[39m, \u001b[39mNone\u001b[39;00m)\n\u001b[1;32m   5257\u001b[0m copy \u001b[39m=\u001b[39m kwargs\u001b[39m.\u001b[39mpop(\u001b[39m\"\u001b[39m\u001b[39mcopy\u001b[39m\u001b[39m\"\u001b[39m, \u001b[39mNone\u001b[39;00m)\n",
      "File \u001b[0;32m~/Library/Python/3.9/lib/python/site-packages/pandas/core/missing.py:911\u001b[0m, in \u001b[0;36mclean_reindex_fill_method\u001b[0;34m(method)\u001b[0m\n\u001b[1;32m    910\u001b[0m \u001b[39mdef\u001b[39;00m \u001b[39mclean_reindex_fill_method\u001b[39m(method) \u001b[39m-\u001b[39m\u001b[39m>\u001b[39m \u001b[39mstr\u001b[39m \u001b[39m|\u001b[39m \u001b[39mNone\u001b[39;00m:\n\u001b[0;32m--> 911\u001b[0m     \u001b[39mreturn\u001b[39;00m clean_fill_method(method, allow_nearest\u001b[39m=\u001b[39;49m\u001b[39mTrue\u001b[39;49;00m)\n",
      "File \u001b[0;32m~/Library/Python/3.9/lib/python/site-packages/pandas/core/missing.py:125\u001b[0m, in \u001b[0;36mclean_fill_method\u001b[0;34m(method, allow_nearest)\u001b[0m\n\u001b[1;32m    123\u001b[0m     expecting \u001b[39m=\u001b[39m \u001b[39m\"\u001b[39m\u001b[39mpad (ffill), backfill (bfill) or nearest\u001b[39m\u001b[39m\"\u001b[39m\n\u001b[1;32m    124\u001b[0m \u001b[39mif\u001b[39;00m method \u001b[39mnot\u001b[39;00m \u001b[39min\u001b[39;00m valid_methods:\n\u001b[0;32m--> 125\u001b[0m     \u001b[39mraise\u001b[39;00m \u001b[39mValueError\u001b[39;00m(\u001b[39mf\u001b[39m\u001b[39m\"\u001b[39m\u001b[39mInvalid fill method. Expecting \u001b[39m\u001b[39m{\u001b[39;00mexpecting\u001b[39m}\u001b[39;00m\u001b[39m. Got \u001b[39m\u001b[39m{\u001b[39;00mmethod\u001b[39m}\u001b[39;00m\u001b[39m\"\u001b[39m)\n\u001b[1;32m    126\u001b[0m \u001b[39mreturn\u001b[39;00m method\n",
      "\u001b[0;31mValueError\u001b[0m: Invalid fill method. Expecting pad (ffill), backfill (bfill) or nearest. Got nan"
     ]
    }
   ],
   "source": [
    "import pandas as pd\n",
    "import numpy as np\n",
    "df = pd.read_csv('internship_assignment.csv')\n",
    "\n",
    "\n",
    "df = df.rename(columns={'user_id_hashed': 'user_id'})\n",
    "\n",
    "# Map the hashed user IDs to new user IDs\n",
    "user_id_dict = {hashed_id: new_id for new_id, hashed_id in enumerate(df['user_id'].unique(), start=1)}\n",
    "df['user_id'] = df['user_id'].map(user_id_dict)\n",
    "\n",
    "# Filter the data for the first user\n",
    "first_user_id = df['user_id'].iloc[0]\n",
    "U1 = df[df['user_id'] == first_user_id]\n",
    "U1 = U1.sort_values('dt')\n",
    "\n",
    "U1['dt'] = pd.to_datetime(U1['dt'])\n",
    "\n",
    "\n",
    "\n",
    "U1.set_index('dt', inplace=True)\n",
    "\n",
    "# Resample the data to hourly frequency and fill missing values with 0\n",
    "U1 = U1.resample('S')\n",
    "\n",
    "\n",
    "display(U1)\n",
    "\n"
   ]
  }
 ],
 "metadata": {
  "kernelspec": {
   "display_name": "Python 3",
   "language": "python",
   "name": "python3"
  },
  "language_info": {
   "codemirror_mode": {
    "name": "ipython",
    "version": 3
   },
   "file_extension": ".py",
   "mimetype": "text/x-python",
   "name": "python",
   "nbconvert_exporter": "python",
   "pygments_lexer": "ipython3",
   "version": "3.9.6"
  },
  "orig_nbformat": 4
 },
 "nbformat": 4,
 "nbformat_minor": 2
}
